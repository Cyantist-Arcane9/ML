{
 "cells": [
  {
   "cell_type": "markdown",
   "metadata": {},
   "source": [
    "Naive Bayes Example!\n",
    "===================="
   ]
  },
  {
   "cell_type": "markdown",
   "metadata": {},
   "source": [
    "Spam Filter using Naive Bayes\n",
    "-----------------------------\n",
    "Naive Bayes is used for classifying data.\n",
    "\n",
    "For example : Supervised learning model (i.e. making action according to previous deduction) like drug-test results')"
   ]
  },
  {
   "cell_type": "markdown",
   "metadata": {},
   "source": [
    "Code:\n",
    "----"
   ]
  },
  {
   "cell_type": "code",
   "execution_count": 15,
   "metadata": {
    "collapsed": true
   },
   "outputs": [],
   "source": [
    "import os\n",
    "import io\n",
    "from pandas import DataFrame\n",
    "from sklearn.feature_extraction.text import CountVectorizer\n",
    "from sklearn.naive_bayes import MultinomialNB\n",
    "\n",
    "# Read files from path recursively for training!\n",
    "def readFiles(path):\n",
    "    for root, dirnames, filenames in os.walk(path):\n",
    "        for filename in filenames:\n",
    "            path = os.path.join(root, filename)\n",
    "            inBody = False\n",
    "            lines = []\n",
    "            f = io.open(path, 'r', encoding='latin1')\n",
    "            for line in f:\n",
    "                if inBody:\n",
    "                    lines.append(line)\n",
    "                elif line == '\\n':\n",
    "                    inBody = True\n",
    "            f.close()\n",
    "            message = '\\n'.join(lines)\n",
    "            yield path, message\n",
    "\n",
    "# Creating data frame : spam / ham\n",
    "def dataFrameFromDirectory(path, classification):\n",
    "    rows = []\n",
    "    index = []\n",
    "    for filename, message in readFiles(path):\n",
    "        rows.append({'message': message, 'class': classification})\n",
    "        index.append(filename)\n",
    "    return DataFrame(rows, index=index)\n",
    "\n",
    "def nBayes():\n",
    "    # Creating pandas dataframe consisting : message & its Class : Spam/ham\n",
    "    data = DataFrame({'message': [], 'class': []})\n",
    "\n",
    "    data = data.append(dataFrameFromDirectory('../data/emails/spam', 'spam'))\n",
    "    data = data.append(dataFrameFromDirectory('../data/emails/ham', 'ham'))\n",
    "\n",
    "    data.head()\n",
    "\n",
    "    # Converting Message into its list of words\n",
    "    vectorizer = CountVectorizer()\n",
    "    counts = vectorizer.fit_transform(data['message'].values)\n",
    "\n",
    "    # Using MultinomialNB classifier\n",
    "    classifier = MultinomialNB()\n",
    "    targets = data['class'].values\n",
    "    classifier.fit(counts, targets)\n",
    "\n",
    "    # Testing out email to get result\n",
    "    examples = ['Demonitization Rocks!!!', \"Free Money Now!!\"]\n",
    "    example_counts = vectorizer.transform(examples)\n",
    "    predictions = classifier.predict(example_counts)\n",
    "    print(' Emails: Demonitization Rocks!!! ,Free Money Now!! \\n Results:')\n",
    "    print(predictions)\n",
    "    print('')\n"
   ]
  },
  {
   "cell_type": "code",
   "execution_count": 16,
   "metadata": {
    "collapsed": false
   },
   "outputs": [
    {
     "name": "stdout",
     "output_type": "stream",
     "text": [
      " Emails: Demonitization Rocks!!! ,Free Money Now!! \n",
      " Results:\n",
      "['ham' 'spam']\n",
      "\n"
     ]
    }
   ],
   "source": [
    "nBayes()"
   ]
  },
  {
   "cell_type": "markdown",
   "metadata": {},
   "source": [
    "Here email with meassage **Demonitization Rocks!!!** is acceptable\n",
    "rather than the mail with **Free Money Now!!** is a spam based on training data set"
   ]
  },
  {
   "cell_type": "markdown",
   "metadata": {},
   "source": [
    "I use predefined **spam & ham** files to train the machine in order to detect spam mails"
   ]
  },
  {
   "cell_type": "code",
   "execution_count": null,
   "metadata": {
    "collapsed": true
   },
   "outputs": [],
   "source": []
  }
 ],
 "metadata": {
  "kernelspec": {
   "display_name": "Python [conda root]",
   "language": "python",
   "name": "conda-root-py"
  },
  "language_info": {
   "codemirror_mode": {
    "name": "ipython",
    "version": 3
   },
   "file_extension": ".py",
   "mimetype": "text/x-python",
   "name": "python",
   "nbconvert_exporter": "python",
   "pygments_lexer": "ipython3",
   "version": "3.5.2"
  }
 },
 "nbformat": 4,
 "nbformat_minor": 2
}
